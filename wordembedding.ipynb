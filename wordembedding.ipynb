{
  "nbformat": 4,
  "nbformat_minor": 0,
  "metadata": {
    "colab": {
      "provenance": [],
      "authorship_tag": "ABX9TyOxAjugRhvB8wlZIgj4Rlq9",
      "include_colab_link": true
    },
    "kernelspec": {
      "name": "python3",
      "display_name": "Python 3"
    },
    "language_info": {
      "name": "python"
    }
  },
  "cells": [
    {
      "cell_type": "markdown",
      "metadata": {
        "id": "view-in-github",
        "colab_type": "text"
      },
      "source": [
        "<a href=\"https://colab.research.google.com/github/ritik-hue/NLP-basics/blob/main/wordembedding.ipynb\" target=\"_parent\"><img src=\"https://colab.research.google.com/assets/colab-badge.svg\" alt=\"Open In Colab\"/></a>"
      ]
    },
    {
      "cell_type": "code",
      "execution_count": 1,
      "metadata": {
        "id": "PlMWHWPG_3Gq"
      },
      "outputs": [],
      "source": [
        "from tensorflow.keras.preprocessing.text import one_hot"
      ]
    },
    {
      "cell_type": "code",
      "source": [
        "sent=['i really like food','its a glass of juice','watching movies is my therapy','mobile games are underrated']"
      ],
      "metadata": {
        "id": "xCqdgbrtADFK"
      },
      "execution_count": 6,
      "outputs": []
    },
    {
      "cell_type": "code",
      "source": [
        "!pip install tensorflow-gpu"
      ],
      "metadata": {
        "colab": {
          "base_uri": "https://localhost:8080/"
        },
        "id": "cH7psLvTAXra",
        "outputId": "df147ca7-7adb-4534-969e-da7c3b6a61f3"
      },
      "execution_count": 3,
      "outputs": [
        {
          "output_type": "stream",
          "name": "stdout",
          "text": [
            "Collecting tensorflow-gpu\n",
            "  Using cached tensorflow-gpu-2.12.0.tar.gz (2.6 kB)\n",
            "  \u001b[1;31merror\u001b[0m: \u001b[1msubprocess-exited-with-error\u001b[0m\n",
            "  \n",
            "  \u001b[31m×\u001b[0m \u001b[32mpython setup.py egg_info\u001b[0m did not run successfully.\n",
            "  \u001b[31m│\u001b[0m exit code: \u001b[1;36m1\u001b[0m\n",
            "  \u001b[31m╰─>\u001b[0m See above for output.\n",
            "  \n",
            "  \u001b[1;35mnote\u001b[0m: This error originates from a subprocess, and is likely not a problem with pip.\n",
            "  Preparing metadata (setup.py) ... \u001b[?25l\u001b[?25herror\n",
            "\u001b[1;31merror\u001b[0m: \u001b[1mmetadata-generation-failed\u001b[0m\n",
            "\n",
            "\u001b[31m×\u001b[0m Encountered error while generating package metadata.\n",
            "\u001b[31m╰─>\u001b[0m See above for output.\n",
            "\n",
            "\u001b[1;35mnote\u001b[0m: This is an issue with the package mentioned above, not pip.\n",
            "\u001b[1;36mhint\u001b[0m: See above for details.\n"
          ]
        }
      ]
    },
    {
      "cell_type": "code",
      "source": [
        "voc_size=10000"
      ],
      "metadata": {
        "id": "JLBlKnbBA5OQ"
      },
      "execution_count": 4,
      "outputs": []
    },
    {
      "cell_type": "markdown",
      "source": [
        "one hot representation"
      ],
      "metadata": {
        "id": "qiyXpWgXBTbc"
      }
    },
    {
      "cell_type": "code",
      "source": [
        "onehotrep=[one_hot(words,voc_size) for words in sent]\n",
        "print(onehotrep)"
      ],
      "metadata": {
        "colab": {
          "base_uri": "https://localhost:8080/"
        },
        "id": "oSzD2hgoAfoh",
        "outputId": "4acd45bf-8e88-4e1c-bb6f-f3c1e04e796c"
      },
      "execution_count": 7,
      "outputs": [
        {
          "output_type": "stream",
          "name": "stdout",
          "text": [
            "[[6377, 9975, 7520, 3796], [8552, 2602, 6725, 4182, 7056], [4209, 6277, 8373, 7116, 1299], [827, 9050, 352, 7598]]\n"
          ]
        }
      ]
    },
    {
      "cell_type": "markdown",
      "source": [
        "word embedding representation"
      ],
      "metadata": {
        "id": "naaQphMXBzco"
      }
    },
    {
      "cell_type": "code",
      "source": [
        "from tensorflow.keras.layers import Embedding\n",
        "from tensorflow.keras.preprocessing.sequence import pad_sequences\n",
        "from tensorflow.keras.models import Sequential"
      ],
      "metadata": {
        "id": "G9LWD2JAB2rU"
      },
      "execution_count": 9,
      "outputs": []
    },
    {
      "cell_type": "code",
      "source": [
        "import numpy as np"
      ],
      "metadata": {
        "id": "4bSUc9RrCgbF"
      },
      "execution_count": 10,
      "outputs": []
    },
    {
      "cell_type": "markdown",
      "source": [
        "making the sentences of equal size to make input size fixed"
      ],
      "metadata": {
        "id": "WeBEQqBBD4Xq"
      }
    },
    {
      "cell_type": "code",
      "source": [
        "sent_length=6\n",
        "embedded_docs=pad_sequences(onehotrep,padding='pre',maxlen=sent_length)\n",
        "print(embedded_docs)"
      ],
      "metadata": {
        "colab": {
          "base_uri": "https://localhost:8080/"
        },
        "id": "J99Qw5_WDXqr",
        "outputId": "1134251d-b230-491c-8bf7-7bf13da85ef2"
      },
      "execution_count": 12,
      "outputs": [
        {
          "output_type": "stream",
          "name": "stdout",
          "text": [
            "[[   0    0 6377 9975 7520 3796]\n",
            " [   0 8552 2602 6725 4182 7056]\n",
            " [   0 4209 6277 8373 7116 1299]\n",
            " [   0    0  827 9050  352 7598]]\n"
          ]
        }
      ]
    },
    {
      "cell_type": "code",
      "source": [
        "dim=10"
      ],
      "metadata": {
        "id": "3LuoO5X3DwrI"
      },
      "execution_count": 13,
      "outputs": []
    },
    {
      "cell_type": "code",
      "source": [
        "model=Sequential()\n",
        "model.add(Embedding(voc_size,10,input_length=sent_length))\n",
        "model.compile('adam','mse')"
      ],
      "metadata": {
        "id": "J7GIOxYlEGD6"
      },
      "execution_count": 14,
      "outputs": []
    },
    {
      "cell_type": "code",
      "source": [
        "model.summary()"
      ],
      "metadata": {
        "colab": {
          "base_uri": "https://localhost:8080/"
        },
        "id": "L3BzCnd6Ens5",
        "outputId": "6dab88c2-89b0-42b8-c503-cb6f89401aa2"
      },
      "execution_count": 15,
      "outputs": [
        {
          "output_type": "stream",
          "name": "stdout",
          "text": [
            "Model: \"sequential\"\n",
            "_________________________________________________________________\n",
            " Layer (type)                Output Shape              Param #   \n",
            "=================================================================\n",
            " embedding (Embedding)       (None, 6, 10)             100000    \n",
            "                                                                 \n",
            "=================================================================\n",
            "Total params: 100,000\n",
            "Trainable params: 100,000\n",
            "Non-trainable params: 0\n",
            "_________________________________________________________________\n"
          ]
        }
      ]
    },
    {
      "cell_type": "code",
      "source": [
        "model.predict(embedded_docs[0])"
      ],
      "metadata": {
        "colab": {
          "base_uri": "https://localhost:8080/"
        },
        "id": "jI_8b3ktE5GK",
        "outputId": "711a9858-8c2a-497f-c2a4-0fc20b0b51bd"
      },
      "execution_count": 16,
      "outputs": [
        {
          "output_type": "stream",
          "name": "stdout",
          "text": [
            "1/1 [==============================] - 0s 154ms/step\n"
          ]
        },
        {
          "output_type": "execute_result",
          "data": {
            "text/plain": [
              "array([[-0.04128962, -0.02282007, -0.04271411, -0.03470641,  0.04538124,\n",
              "         0.04452937,  0.04433485,  0.03145603,  0.00505112,  0.03616994],\n",
              "       [-0.04128962, -0.02282007, -0.04271411, -0.03470641,  0.04538124,\n",
              "         0.04452937,  0.04433485,  0.03145603,  0.00505112,  0.03616994],\n",
              "       [-0.01622796,  0.03433919, -0.01247849, -0.02092258, -0.04134337,\n",
              "        -0.0247698 , -0.0047699 ,  0.03825121,  0.00673337, -0.00334876],\n",
              "       [-0.03650803, -0.02370903,  0.03431085, -0.00735049, -0.02894901,\n",
              "         0.04239259, -0.02676398,  0.01615298, -0.0161861 ,  0.00442611],\n",
              "       [-0.04050865,  0.01405606,  0.0259862 ,  0.01071442,  0.01334221,\n",
              "         0.01710377, -0.02109835, -0.02613857,  0.04169753,  0.01467316],\n",
              "       [-0.04308155, -0.00884246, -0.03724353,  0.03270953,  0.00075849,\n",
              "         0.04049008, -0.00383123,  0.04983629,  0.03377027, -0.00277342]],\n",
              "      dtype=float32)"
            ]
          },
          "metadata": {},
          "execution_count": 16
        }
      ]
    }
  ]
}